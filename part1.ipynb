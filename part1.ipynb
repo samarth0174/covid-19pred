{
 "cells": [
  {
   "cell_type": "markdown",
   "metadata": {},
   "source": [
    "# PART1"
   ]
  },
  {
   "cell_type": "markdown",
   "metadata": {},
   "source": [
    "# loading libraries"
   ]
  },
  {
   "cell_type": "code",
   "execution_count": 47,
   "metadata": {},
   "outputs": [],
   "source": [
    "import pandas as pd\n",
    "import numpy as np\n",
    "import matplotlib.pyplot as plt\n",
    "from pandas import read_csv\n",
    "from sklearn.model_selection import train_test_split\n",
    "from sklearn.preprocessing import LabelEncoder\n",
    "from sklearn.preprocessing import OrdinalEncoder\n",
    "from sklearn.feature_selection import SelectKBest\n",
    "from sklearn.feature_selection import chi2\n",
    "from matplotlib import pyplot\n"
   ]
  },
  {
   "cell_type": "markdown",
   "metadata": {},
   "source": [
    "# Load Data"
   ]
  },
  {
   "cell_type": "code",
   "execution_count": 48,
   "metadata": {},
   "outputs": [],
   "source": [
    "data = pd.read_excel('Train_dataset.xlsx')\n",
    "# Seaborn visualization library\n",
    "# import seaborn as sns\n",
    "# # Create the default pairplot\n",
    "# sns.pairplot(data)"
   ]
  },
  {
   "cell_type": "code",
   "execution_count": 49,
   "metadata": {},
   "outputs": [
    {
     "name": "stdout",
     "output_type": "stream",
     "text": [
      "<class 'pandas.core.frame.DataFrame'>\n",
      "RangeIndex: 10714 entries, 0 to 10713\n",
      "Data columns (total 28 columns):\n",
      "people_ID                 10714 non-null int64\n",
      "Region                    10714 non-null object\n",
      "Gender                    10714 non-null object\n",
      "Designation               10714 non-null object\n",
      "Name                      10694 non-null object\n",
      "Married                   10714 non-null object\n",
      "Children                  10403 non-null float64\n",
      "Occupation                9967 non-null object\n",
      "Mode_transport            10711 non-null object\n",
      "cases/1M                  10714 non-null int64\n",
      "Deaths/1M                 10714 non-null int64\n",
      "comorbidity               10488 non-null object\n",
      "Age                       10714 non-null int64\n",
      "Coma score                10714 non-null int64\n",
      "Pulmonary score           10714 non-null object\n",
      "cardiological pressure    10617 non-null object\n",
      "Diuresis                  9998 non-null float64\n",
      "Platelets                 9790 non-null float64\n",
      "HBB                       10698 non-null float64\n",
      "d-dimer                   9600 non-null float64\n",
      "Heart rate                9600 non-null float64\n",
      "HDL cholesterol           10679 non-null float64\n",
      "Charlson Index            10714 non-null int64\n",
      "Blood Glucose             10714 non-null int64\n",
      "Insurance                 9624 non-null float64\n",
      "salary                    10714 non-null int64\n",
      "FT/month                  9991 non-null float64\n",
      "Infect_Prob               10714 non-null float64\n",
      "dtypes: float64(10), int64(8), object(10)\n",
      "memory usage: 2.3+ MB\n"
     ]
    }
   ],
   "source": [
    "\n",
    "data.info()"
   ]
  },
  {
   "cell_type": "code",
   "execution_count": 50,
   "metadata": {},
   "outputs": [],
   "source": [
    "#drop id/name/for training\n",
    "data = data.drop(columns=['people_ID','Designation', 'Name'])\n"
   ]
  },
  {
   "cell_type": "code",
   "execution_count": null,
   "metadata": {},
   "outputs": [],
   "source": []
  },
  {
   "cell_type": "code",
   "execution_count": 51,
   "metadata": {},
   "outputs": [],
   "source": [
    "data.head()\n",
    "y = data.iloc[:,-1]"
   ]
  },
  {
   "cell_type": "markdown",
   "metadata": {},
   "source": [
    "# Filling Missing Values"
   ]
  },
  {
   "cell_type": "code",
   "execution_count": 52,
   "metadata": {},
   "outputs": [
    {
     "name": "stdout",
     "output_type": "stream",
     "text": [
      "Missing values:\n",
      "Region                      0\n",
      "Gender                      0\n",
      "Married                     0\n",
      "Occupation                747\n",
      "Mode_transport              3\n",
      "comorbidity               226\n",
      "Pulmonary score             0\n",
      "cardiological pressure     97\n",
      "dtype: int64\n",
      "\n",
      "after filling:\n",
      "Region                    0\n",
      "Gender                    0\n",
      "Married                   0\n",
      "Occupation                0\n",
      "Mode_transport            0\n",
      "comorbidity               0\n",
      "Pulmonary score           0\n",
      "cardiological pressure    0\n",
      "dtype: int64\n"
     ]
    }
   ],
   "source": [
    "# Categorical columns\n",
    "cat_data = data.select_dtypes(include=['object']).copy()\n",
    "print(\"Missing values:\")\n",
    "print(cat_data.isnull().sum())\n",
    "print(\"\\nafter filling:\")\n",
    "cat_data = cat_data.fillna(cat_data.mode().index[0])\n",
    "print(cat_data.isnull().sum())\n"
   ]
  },
  {
   "cell_type": "markdown",
   "metadata": {},
   "source": [
    "# Categorical Encoding"
   ]
  },
  {
   "cell_type": "code",
   "execution_count": 53,
   "metadata": {},
   "outputs": [
    {
     "data": {
      "text/html": [
       "<div>\n",
       "<style scoped>\n",
       "    .dataframe tbody tr th:only-of-type {\n",
       "        vertical-align: middle;\n",
       "    }\n",
       "\n",
       "    .dataframe tbody tr th {\n",
       "        vertical-align: top;\n",
       "    }\n",
       "\n",
       "    .dataframe thead th {\n",
       "        text-align: right;\n",
       "    }\n",
       "</style>\n",
       "<table border=\"1\" class=\"dataframe\">\n",
       "  <thead>\n",
       "    <tr style=\"text-align: right;\">\n",
       "      <th></th>\n",
       "      <th>Region_0</th>\n",
       "      <th>Region_1</th>\n",
       "      <th>Region_2</th>\n",
       "      <th>Region_3</th>\n",
       "      <th>Gender_0</th>\n",
       "      <th>Gender_1</th>\n",
       "      <th>Married_0</th>\n",
       "      <th>Married_1</th>\n",
       "      <th>Occupation_0</th>\n",
       "      <th>Occupation_1</th>\n",
       "      <th>...</th>\n",
       "      <th>comorbidity_1</th>\n",
       "      <th>comorbidity_2</th>\n",
       "      <th>comorbidity_3</th>\n",
       "      <th>Pulmonary score_0</th>\n",
       "      <th>Pulmonary score_1</th>\n",
       "      <th>Pulmonary score_2</th>\n",
       "      <th>cardiological pressure_0</th>\n",
       "      <th>cardiological pressure_1</th>\n",
       "      <th>cardiological pressure_2</th>\n",
       "      <th>cardiological pressure_3</th>\n",
       "    </tr>\n",
       "  </thead>\n",
       "  <tbody>\n",
       "    <tr>\n",
       "      <td>0</td>\n",
       "      <td>0</td>\n",
       "      <td>0</td>\n",
       "      <td>0</td>\n",
       "      <td>1</td>\n",
       "      <td>0</td>\n",
       "      <td>1</td>\n",
       "      <td>0</td>\n",
       "      <td>1</td>\n",
       "      <td>0</td>\n",
       "      <td>0</td>\n",
       "      <td>...</td>\n",
       "      <td>0</td>\n",
       "      <td>0</td>\n",
       "      <td>1</td>\n",
       "      <td>0</td>\n",
       "      <td>0</td>\n",
       "      <td>1</td>\n",
       "      <td>0</td>\n",
       "      <td>0</td>\n",
       "      <td>0</td>\n",
       "      <td>1</td>\n",
       "    </tr>\n",
       "    <tr>\n",
       "      <td>1</td>\n",
       "      <td>0</td>\n",
       "      <td>0</td>\n",
       "      <td>0</td>\n",
       "      <td>1</td>\n",
       "      <td>0</td>\n",
       "      <td>1</td>\n",
       "      <td>0</td>\n",
       "      <td>1</td>\n",
       "      <td>0</td>\n",
       "      <td>0</td>\n",
       "      <td>...</td>\n",
       "      <td>0</td>\n",
       "      <td>1</td>\n",
       "      <td>0</td>\n",
       "      <td>0</td>\n",
       "      <td>1</td>\n",
       "      <td>0</td>\n",
       "      <td>0</td>\n",
       "      <td>0</td>\n",
       "      <td>1</td>\n",
       "      <td>0</td>\n",
       "    </tr>\n",
       "    <tr>\n",
       "      <td>2</td>\n",
       "      <td>0</td>\n",
       "      <td>0</td>\n",
       "      <td>0</td>\n",
       "      <td>1</td>\n",
       "      <td>0</td>\n",
       "      <td>1</td>\n",
       "      <td>1</td>\n",
       "      <td>0</td>\n",
       "      <td>0</td>\n",
       "      <td>0</td>\n",
       "      <td>...</td>\n",
       "      <td>0</td>\n",
       "      <td>1</td>\n",
       "      <td>1</td>\n",
       "      <td>0</td>\n",
       "      <td>1</td>\n",
       "      <td>1</td>\n",
       "      <td>0</td>\n",
       "      <td>0</td>\n",
       "      <td>1</td>\n",
       "      <td>1</td>\n",
       "    </tr>\n",
       "    <tr>\n",
       "      <td>3</td>\n",
       "      <td>0</td>\n",
       "      <td>0</td>\n",
       "      <td>0</td>\n",
       "      <td>1</td>\n",
       "      <td>0</td>\n",
       "      <td>1</td>\n",
       "      <td>0</td>\n",
       "      <td>1</td>\n",
       "      <td>0</td>\n",
       "      <td>0</td>\n",
       "      <td>...</td>\n",
       "      <td>1</td>\n",
       "      <td>0</td>\n",
       "      <td>0</td>\n",
       "      <td>1</td>\n",
       "      <td>0</td>\n",
       "      <td>0</td>\n",
       "      <td>0</td>\n",
       "      <td>1</td>\n",
       "      <td>0</td>\n",
       "      <td>0</td>\n",
       "    </tr>\n",
       "    <tr>\n",
       "      <td>4</td>\n",
       "      <td>0</td>\n",
       "      <td>0</td>\n",
       "      <td>0</td>\n",
       "      <td>1</td>\n",
       "      <td>0</td>\n",
       "      <td>1</td>\n",
       "      <td>1</td>\n",
       "      <td>0</td>\n",
       "      <td>0</td>\n",
       "      <td>0</td>\n",
       "      <td>...</td>\n",
       "      <td>0</td>\n",
       "      <td>1</td>\n",
       "      <td>0</td>\n",
       "      <td>0</td>\n",
       "      <td>0</td>\n",
       "      <td>1</td>\n",
       "      <td>0</td>\n",
       "      <td>0</td>\n",
       "      <td>0</td>\n",
       "      <td>1</td>\n",
       "    </tr>\n",
       "  </tbody>\n",
       "</table>\n",
       "<p>5 rows × 27 columns</p>\n",
       "</div>"
      ],
      "text/plain": [
       "   Region_0  Region_1  Region_2  Region_3  Gender_0  Gender_1  Married_0  \\\n",
       "0         0         0         0         1         0         1          0   \n",
       "1         0         0         0         1         0         1          0   \n",
       "2         0         0         0         1         0         1          1   \n",
       "3         0         0         0         1         0         1          0   \n",
       "4         0         0         0         1         0         1          1   \n",
       "\n",
       "   Married_1  Occupation_0  Occupation_1  ...  comorbidity_1  comorbidity_2  \\\n",
       "0          1             0             0  ...              0              0   \n",
       "1          1             0             0  ...              0              1   \n",
       "2          0             0             0  ...              0              1   \n",
       "3          1             0             0  ...              1              0   \n",
       "4          0             0             0  ...              0              1   \n",
       "\n",
       "   comorbidity_3  Pulmonary score_0  Pulmonary score_1  Pulmonary score_2  \\\n",
       "0              1                  0                  0                  1   \n",
       "1              0                  0                  1                  0   \n",
       "2              1                  0                  1                  1   \n",
       "3              0                  1                  0                  0   \n",
       "4              0                  0                  0                  1   \n",
       "\n",
       "   cardiological pressure_0  cardiological pressure_1  \\\n",
       "0                         0                         0   \n",
       "1                         0                         0   \n",
       "2                         0                         0   \n",
       "3                         0                         1   \n",
       "4                         0                         0   \n",
       "\n",
       "   cardiological pressure_2  cardiological pressure_3  \n",
       "0                         0                         1  \n",
       "1                         1                         0  \n",
       "2                         1                         1  \n",
       "3                         0                         0  \n",
       "4                         0                         1  \n",
       "\n",
       "[5 rows x 27 columns]"
      ]
     },
     "execution_count": 53,
     "metadata": {},
     "output_type": "execute_result"
    }
   ],
   "source": [
    "import category_encoders as ce\n",
    "encoder = ce.BinaryEncoder(cat_data)\n",
    "cat_data = encoder.fit_transform(cat_data)\n",
    "cat_data.head()"
   ]
  },
  {
   "cell_type": "code",
   "execution_count": 54,
   "metadata": {},
   "outputs": [
    {
     "name": "stdout",
     "output_type": "stream",
     "text": [
      "Missing values:\n",
      "Children            311\n",
      "Diuresis            716\n",
      "Platelets           924\n",
      "HBB                  16\n",
      "d-dimer            1114\n",
      "Heart rate         1114\n",
      "HDL cholesterol      35\n",
      "Insurance          1090\n",
      "FT/month            723\n",
      "Infect_Prob           0\n",
      "dtype: int64\n",
      "\n",
      "after filling:\n",
      "Children           0\n",
      "Diuresis           0\n",
      "Platelets          0\n",
      "HBB                0\n",
      "d-dimer            0\n",
      "Heart rate         0\n",
      "HDL cholesterol    0\n",
      "Insurance          0\n",
      "FT/month           0\n",
      "Infect_Prob        0\n",
      "dtype: int64\n"
     ]
    }
   ],
   "source": [
    "# Numerical columns\n",
    "f_data = data.select_dtypes(include=['float64']).copy()\n",
    "print(\"Missing values:\")\n",
    "print(f_data.isnull().sum())\n",
    "print(\"\\nafter filling:\")\n",
    "f_data = f_data.fillna(f_data.mode().index[0])\n",
    "print(f_data.isnull().sum())\n"
   ]
  },
  {
   "cell_type": "code",
   "execution_count": 55,
   "metadata": {},
   "outputs": [
    {
     "name": "stdout",
     "output_type": "stream",
     "text": [
      "Missing values:\n",
      "cases/1M          0\n",
      "Deaths/1M         0\n",
      "Age               0\n",
      "Coma score        0\n",
      "Charlson Index    0\n",
      "Blood Glucose     0\n",
      "salary            0\n",
      "dtype: int64\n",
      "\n",
      "after filling:\n",
      "cases/1M          0\n",
      "Deaths/1M         0\n",
      "Age               0\n",
      "Coma score        0\n",
      "Charlson Index    0\n",
      "Blood Glucose     0\n",
      "salary            0\n",
      "dtype: int64\n"
     ]
    }
   ],
   "source": [
    "# Numerical columns\n",
    "i_data = data.select_dtypes(include=['int64']).copy()\n",
    "print(\"Missing values:\")\n",
    "print(i_data.isnull().sum())\n",
    "print(\"\\nafter filling:\")\n",
    "i_data = i_data.fillna(i_data.mode().index[0])\n",
    "print(i_data.isnull().sum())\n"
   ]
  },
  {
   "cell_type": "code",
   "execution_count": null,
   "metadata": {},
   "outputs": [],
   "source": []
  },
  {
   "cell_type": "markdown",
   "metadata": {},
   "source": [
    "# Merge all clean dfs"
   ]
  },
  {
   "cell_type": "code",
   "execution_count": 56,
   "metadata": {},
   "outputs": [],
   "source": [
    "data1 = pd.concat([cat_data,f_data,i_data,y], axis=1)"
   ]
  },
  {
   "cell_type": "code",
   "execution_count": 58,
   "metadata": {},
   "outputs": [
    {
     "name": "stdout",
     "output_type": "stream",
     "text": [
      "Region_0                    0\n",
      "Region_1                    0\n",
      "Region_2                    0\n",
      "Region_3                    0\n",
      "Gender_0                    0\n",
      "Gender_1                    0\n",
      "Married_0                   0\n",
      "Married_1                   0\n",
      "Occupation_0                0\n",
      "Occupation_1                0\n",
      "Occupation_2                0\n",
      "Occupation_3                0\n",
      "Occupation_4                0\n",
      "Mode_transport_0            0\n",
      "Mode_transport_1            0\n",
      "Mode_transport_2            0\n",
      "comorbidity_0               0\n",
      "comorbidity_1               0\n",
      "comorbidity_2               0\n",
      "comorbidity_3               0\n",
      "Pulmonary score_0           0\n",
      "Pulmonary score_1           0\n",
      "Pulmonary score_2           0\n",
      "cardiological pressure_0    0\n",
      "cardiological pressure_1    0\n",
      "cardiological pressure_2    0\n",
      "cardiological pressure_3    0\n",
      "Children                    0\n",
      "Diuresis                    0\n",
      "Platelets                   0\n",
      "HBB                         0\n",
      "d-dimer                     0\n",
      "Heart rate                  0\n",
      "HDL cholesterol             0\n",
      "Insurance                   0\n",
      "FT/month                    0\n",
      "Infect_Prob                 0\n",
      "cases/1M                    0\n",
      "Deaths/1M                   0\n",
      "Age                         0\n",
      "Coma score                  0\n",
      "Charlson Index              0\n",
      "Blood Glucose               0\n",
      "salary                      0\n",
      "Infect_Prob                 0\n",
      "dtype: int64\n"
     ]
    }
   ],
   "source": [
    "print(data1.isnull().sum())"
   ]
  },
  {
   "cell_type": "code",
   "execution_count": 59,
   "metadata": {},
   "outputs": [
    {
     "data": {
      "text/plain": [
       "Region_0                    0.000000e+00\n",
       "Region_1                    0.000000e+00\n",
       "Region_2                    0.000000e+00\n",
       "Region_3                    1.000000e+00\n",
       "Gender_0                    0.000000e+00\n",
       "Gender_1                    1.000000e+00\n",
       "Married_0                   1.000000e+00\n",
       "Married_1                   0.000000e+00\n",
       "Occupation_0                0.000000e+00\n",
       "Occupation_1                0.000000e+00\n",
       "Occupation_2                1.000000e+00\n",
       "Occupation_3                1.000000e+00\n",
       "Occupation_4                1.000000e+00\n",
       "Mode_transport_0            0.000000e+00\n",
       "Mode_transport_1            0.000000e+00\n",
       "Mode_transport_2            1.000000e+00\n",
       "comorbidity_0               0.000000e+00\n",
       "comorbidity_1               0.000000e+00\n",
       "comorbidity_2               1.000000e+00\n",
       "comorbidity_3               0.000000e+00\n",
       "Pulmonary score_0           1.000000e+00\n",
       "Pulmonary score_1           0.000000e+00\n",
       "Pulmonary score_2           0.000000e+00\n",
       "cardiological pressure_0    0.000000e+00\n",
       "cardiological pressure_1    1.000000e+00\n",
       "cardiological pressure_2    0.000000e+00\n",
       "cardiological pressure_3    0.000000e+00\n",
       "Children                    0.000000e+00\n",
       "Diuresis                    4.030000e+02\n",
       "Platelets                   3.900000e+01\n",
       "HBB                         1.740000e+02\n",
       "d-dimer                     2.130000e+02\n",
       "Heart rate                  9.800000e+01\n",
       "HDL cholesterol             4.300000e+01\n",
       "Insurance                   0.000000e+00\n",
       "FT/month                    2.000000e+00\n",
       "Infect_Prob                 3.514752e+01\n",
       "cases/1M                    2.000000e+00\n",
       "Deaths/1M                   0.000000e+00\n",
       "Age                         1.800000e+01\n",
       "Coma score                  1.500000e+01\n",
       "Charlson Index              3.300000e+01\n",
       "Blood Glucose               3.000000e+00\n",
       "salary                      2.300000e+06\n",
       "Infect_Prob                 3.514752e+01\n",
       "Name: 12, dtype: float64"
      ]
     },
     "execution_count": 59,
     "metadata": {},
     "output_type": "execute_result"
    }
   ],
   "source": [
    "data1.iloc[12]"
   ]
  },
  {
   "cell_type": "code",
   "execution_count": 62,
   "metadata": {},
   "outputs": [],
   "source": [
    "x = data1.iloc[:,:-1]\n",
    "y = data1.iloc[:,-1]\n"
   ]
  },
  {
   "cell_type": "code",
   "execution_count": 63,
   "metadata": {},
   "outputs": [],
   "source": [
    "X_train, X_test, y_train, y_test = train_test_split(x, y, test_size=0.33, random_state=1)"
   ]
  },
  {
   "cell_type": "code",
   "execution_count": 64,
   "metadata": {},
   "outputs": [],
   "source": [
    "# # format all fields as string\n",
    "# x = x.astype(str)\n",
    "# y = y.astype(str)\n"
   ]
  },
  {
   "cell_type": "code",
   "execution_count": 65,
   "metadata": {},
   "outputs": [],
   "source": [
    "#Feature Scaling\n",
    "from sklearn.preprocessing import MinMaxScaler\n",
    "sc_x = MinMaxScaler(feature_range =(0, 1))\n",
    "X_train =  sc_x.fit_transform(X_train)\n",
    "X_test =  sc_x.fit_transform(X_test)\n"
   ]
  },
  {
   "cell_type": "code",
   "execution_count": null,
   "metadata": {},
   "outputs": [],
   "source": [
    "# X_train_enc = X_train_enc.astype(str)\n",
    "# X_test_enc = X_test_enc.astype(str)\n",
    "# y_train = y_train.astype(str)\n",
    "# y_test = y_test.astype(str)\n"
   ]
  },
  {
   "cell_type": "code",
   "execution_count": null,
   "metadata": {},
   "outputs": [],
   "source": [
    "# print(X_train_fs)"
   ]
  },
  {
   "cell_type": "code",
   "execution_count": 66,
   "metadata": {},
   "outputs": [
    {
     "name": "stdout",
     "output_type": "stream",
     "text": [
      "(7178, 44)\n",
      "(3536, 44)\n",
      "(7178,)\n",
      "(3536,)\n"
     ]
    }
   ],
   "source": [
    "print(X_train.shape)\n",
    "print(X_test.shape)\n",
    "print(y_train.shape)\n",
    "print(y_test.shape)\n"
   ]
  },
  {
   "cell_type": "markdown",
   "metadata": {},
   "source": [
    "# Fitting the models"
   ]
  },
  {
   "cell_type": "markdown",
   "metadata": {},
   "source": [
    "# Random Forest"
   ]
  },
  {
   "cell_type": "code",
   "execution_count": 67,
   "metadata": {},
   "outputs": [
    {
     "name": "stdout",
     "output_type": "stream",
     "text": [
      "Trained model ::  RandomForestRegressor(bootstrap=True, ccp_alpha=0.0, criterion='mse',\n",
      "                      max_depth=None, max_features='auto', max_leaf_nodes=None,\n",
      "                      max_samples=None, min_impurity_decrease=0.0,\n",
      "                      min_impurity_split=None, min_samples_leaf=1,\n",
      "                      min_samples_split=2, min_weight_fraction_leaf=0.0,\n",
      "                      n_estimators=175, n_jobs=None, oob_score=False,\n",
      "                      random_state=0, verbose=0, warm_start=False)\n",
      "R2 Score: 0.9999996503138595\n",
      "MSE: 4.069257868986193e-05\n"
     ]
    }
   ],
   "source": [
    "# fit the model - Random Forest\n",
    "from sklearn.ensemble import RandomForestRegressor\n",
    "from sklearn import metrics\n",
    "\n",
    "model = RandomForestRegressor(n_estimators = 175,random_state=0)\n",
    "model.fit(X_train,y_train)\n",
    "print(\"Trained model :: \", model)\n",
    "# evaluate the model\n",
    "expected_y  = y_test\n",
    "predicted_y = model.predict(X_test)\n",
    "print(\"R2 Score:\",metrics.r2_score(expected_y, predicted_y))\n",
    "print(\"MSE:\",metrics.mean_squared_error(expected_y, predicted_y))\n"
   ]
  },
  {
   "cell_type": "code",
   "execution_count": null,
   "metadata": {},
   "outputs": [],
   "source": []
  },
  {
   "cell_type": "markdown",
   "metadata": {},
   "source": [
    "# Multiple Linear Regression"
   ]
  },
  {
   "cell_type": "code",
   "execution_count": 73,
   "metadata": {},
   "outputs": [
    {
     "name": "stdout",
     "output_type": "stream",
     "text": [
      "Trained model ::  LinearRegression(copy_X=True, fit_intercept=True, n_jobs=None, normalize=False)\n",
      "R2 Score:  1.0\n"
     ]
    }
   ],
   "source": [
    "from sklearn.linear_model import LinearRegression\n",
    "regressor = LinearRegression()\n",
    "regressor.fit(X_train,y_train)\n",
    "print(\"Trained model :: \", regressor)\n",
    "# evaluate the model\n",
    "expected_y  = y_test\n",
    "predicted_y = regressor.predict(X_test)\n",
    "print(\"R2 Score: \" , metrics.r2_score(expected_y, predicted_y))"
   ]
  },
  {
   "cell_type": "markdown",
   "metadata": {},
   "source": [
    "# SVM Regression "
   ]
  },
  {
   "cell_type": "code",
   "execution_count": null,
   "metadata": {},
   "outputs": [],
   "source": [
    "from sklearn.svm import SVR \n",
    "from sklearn.metrics import mean_squared_error\n",
    "\n"
   ]
  },
  {
   "cell_type": "markdown",
   "metadata": {},
   "source": [
    "# MLP"
   ]
  },
  {
   "cell_type": "code",
   "execution_count": 74,
   "metadata": {},
   "outputs": [
    {
     "name": "stdout",
     "output_type": "stream",
     "text": [
      "\n",
      "MLPRegressor(activation='relu', alpha=0.0001, batch_size='auto', beta_1=0.9,\n",
      "             beta_2=0.999, early_stopping=False, epsilon=1e-08,\n",
      "             hidden_layer_sizes=(100,), learning_rate='constant',\n",
      "             learning_rate_init=0.001, max_fun=15000, max_iter=200,\n",
      "             momentum=0.9, n_iter_no_change=10, nesterovs_momentum=True,\n",
      "             power_t=0.5, random_state=None, shuffle=True, solver='adam',\n",
      "             tol=0.0001, validation_fraction=0.1, verbose=False,\n",
      "             warm_start=False)\n",
      "R2 Score: 0.9999963999559027\n"
     ]
    }
   ],
   "source": [
    "from sklearn.neural_network import MLPRegressor\n",
    "from sklearn import metrics\n",
    "model = MLPRegressor()\n",
    "model.fit(X_train, y_train)\n",
    "print(); print(model)\n",
    "\n",
    "# make predictions\n",
    "expected_y  = y_test\n",
    "predicted_y = model.predict(X_test)\n",
    "\n",
    "# summarize the fit of the model\n",
    "print(\"R2 Score:\",metrics.r2_score(expected_y, predicted_y))\n"
   ]
  },
  {
   "cell_type": "code",
   "execution_count": null,
   "metadata": {},
   "outputs": [],
   "source": []
  }
 ],
 "metadata": {
  "kernelspec": {
   "display_name": "Python 3",
   "language": "python",
   "name": "python3"
  },
  "language_info": {
   "codemirror_mode": {
    "name": "ipython",
    "version": 3
   },
   "file_extension": ".py",
   "mimetype": "text/x-python",
   "name": "python",
   "nbconvert_exporter": "python",
   "pygments_lexer": "ipython3",
   "version": "3.7.4"
  }
 },
 "nbformat": 4,
 "nbformat_minor": 4
}
