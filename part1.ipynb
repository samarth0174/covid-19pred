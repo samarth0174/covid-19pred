{
 "cells": [
  {
   "cell_type": "markdown",
   "metadata": {},
   "source": [
    "# PART1"
   ]
  },
  {
   "cell_type": "markdown",
   "metadata": {},
   "source": [
    "# 1. loading libraries"
   ]
  },
  {
   "cell_type": "code",
   "execution_count": 142,
   "metadata": {},
   "outputs": [],
   "source": [
    "import pandas as pd\n",
    "import numpy as np\n",
    "import matplotlib.pyplot as plt\n",
    "from pandas import read_csv\n",
    "from sklearn.model_selection import train_test_split\n",
    "from sklearn.preprocessing import LabelEncoder\n",
    "from sklearn.preprocessing import OrdinalEncoder\n",
    "from matplotlib import pyplot\n"
   ]
  },
  {
   "cell_type": "markdown",
   "metadata": {},
   "source": [
    "# 2. Load Data"
   ]
  },
  {
   "cell_type": "code",
   "execution_count": 143,
   "metadata": {},
   "outputs": [],
   "source": [
    "data = pd.read_excel('Train_dataset.xlsx')\n",
    "pred = pd.read_excel('Test_dataset.xlsx')\n",
    "# Seaborn visualization library\n",
    "# import seaborn as sns\n",
    "# # Create the default pairplot\n",
    "# sns.pairplot(data)"
   ]
  },
  {
   "cell_type": "code",
   "execution_count": 144,
   "metadata": {},
   "outputs": [
    {
     "name": "stdout",
     "output_type": "stream",
     "text": [
      "<class 'pandas.core.frame.DataFrame'>\n",
      "RangeIndex: 10714 entries, 0 to 10713\n",
      "Data columns (total 28 columns):\n",
      "people_ID                 10714 non-null int64\n",
      "Region                    10714 non-null object\n",
      "Gender                    10714 non-null object\n",
      "Designation               10714 non-null object\n",
      "Name                      10694 non-null object\n",
      "Married                   10714 non-null object\n",
      "Children                  10403 non-null float64\n",
      "Occupation                9967 non-null object\n",
      "Mode_transport            10711 non-null object\n",
      "cases/1M                  10714 non-null int64\n",
      "Deaths/1M                 10714 non-null int64\n",
      "comorbidity               10488 non-null object\n",
      "Age                       10714 non-null int64\n",
      "Coma score                10714 non-null int64\n",
      "Pulmonary score           10714 non-null object\n",
      "cardiological pressure    10617 non-null object\n",
      "Diuresis                  9998 non-null float64\n",
      "Platelets                 9790 non-null float64\n",
      "HBB                       10698 non-null float64\n",
      "d-dimer                   9600 non-null float64\n",
      "Heart rate                9600 non-null float64\n",
      "HDL cholesterol           10679 non-null float64\n",
      "Charlson Index            10714 non-null int64\n",
      "Blood Glucose             10714 non-null int64\n",
      "Insurance                 9624 non-null float64\n",
      "salary                    10714 non-null int64\n",
      "FT/month                  9991 non-null float64\n",
      "Infect_Prob               10714 non-null float64\n",
      "dtypes: float64(10), int64(8), object(10)\n",
      "memory usage: 2.3+ MB\n",
      "<class 'pandas.core.frame.DataFrame'>\n",
      "RangeIndex: 14498 entries, 0 to 14497\n",
      "Data columns (total 27 columns):\n",
      "people_ID                 14498 non-null int64\n",
      "Region                    14498 non-null object\n",
      "Gender                    14498 non-null object\n",
      "Designation               14498 non-null object\n",
      "Name                      14466 non-null object\n",
      "Married                   14498 non-null object\n",
      "Children                  14498 non-null int64\n",
      "Occupation                14498 non-null object\n",
      "Mode_transport            14498 non-null object\n",
      "cases/1M                  14498 non-null int64\n",
      "Deaths/1M                 14498 non-null int64\n",
      "comorbidity               14498 non-null object\n",
      "Age                       14498 non-null int64\n",
      "Coma score                14498 non-null int64\n",
      "Pulmonary score           14498 non-null object\n",
      "cardiological pressure    14498 non-null object\n",
      "Diuresis                  14498 non-null int64\n",
      "Platelets                 14498 non-null int64\n",
      "HBB                       14498 non-null int64\n",
      "d-dimer                   14498 non-null int64\n",
      "Heart rate                14498 non-null int64\n",
      "HDL cholesterol           14498 non-null int64\n",
      "Charlson Index            14498 non-null int64\n",
      "Blood Glucose             14498 non-null int64\n",
      "Insurance                 14498 non-null int64\n",
      "salary                    14498 non-null int64\n",
      "FT/month                  14498 non-null int64\n",
      "dtypes: int64(17), object(10)\n",
      "memory usage: 3.0+ MB\n"
     ]
    }
   ],
   "source": [
    "\n",
    "data.info()\n",
    "pred.info()"
   ]
  },
  {
   "cell_type": "markdown",
   "metadata": {},
   "source": [
    "#drop id/name/designation"
   ]
  },
  {
   "cell_type": "code",
   "execution_count": 145,
   "metadata": {},
   "outputs": [],
   "source": [
    "#drop id/name/for training\n",
    "data = data.drop(columns=['people_ID','Designation', 'Name'])\n",
    "pred1 = pred.drop(columns=['people_ID','Designation', 'Name'])\n",
    " \n",
    "#dropping Designation beacause Designation Derived attribute from gender"
   ]
  },
  {
   "cell_type": "code",
   "execution_count": 146,
   "metadata": {},
   "outputs": [
    {
     "data": {
      "text/plain": [
       "<matplotlib.axes._subplots.AxesSubplot at 0x160d58f6e48>"
      ]
     },
     "execution_count": 146,
     "metadata": {},
     "output_type": "execute_result"
    },
    {
     "data": {
      "image/png": "[encoded data removed]",
      "text/plain": [
       "<Figure size 648x576 with 2 Axes>"
      ]
     },
     "metadata": {
      "needs_background": "light"
     },
     "output_type": "display_data"
    }
   ],
   "source": [
    "# GETTING Correllation matrix\n",
    "import seaborn as sns\n",
    "corrmat = data.corr() \n",
    "f, ax = plt.subplots(figsize =(9, 8)) \n",
    "sns.heatmap(corrmat, ax = ax, cmap =\"YlGnBu\", linewidths = 0.1) "
   ]
  },
  {
   "cell_type": "code",
   "execution_count": 147,
   "metadata": {},
   "outputs": [
    {
     "data": {
      "text/html": [
       "<div>\n",
       "<style scoped>\n",
       "    .dataframe tbody tr th:only-of-type {\n",
       "        vertical-align: middle;\n",
       "    }\n",
       "\n",
       "    .dataframe tbody tr th {\n",
       "        vertical-align: top;\n",
       "    }\n",
       "\n",
       "    .dataframe thead th {\n",
       "        text-align: right;\n",
       "    }\n",
       "</style>\n",
       "<table border=\"1\" class=\"dataframe\">\n",
       "  <thead>\n",
       "    <tr style=\"text-align: right;\">\n",
       "      <th></th>\n",
       "      <th>Region</th>\n",
       "      <th>Gender</th>\n",
       "      <th>Married</th>\n",
       "      <th>Children</th>\n",
       "      <th>Occupation</th>\n",
       "      <th>Mode_transport</th>\n",
       "      <th>cases/1M</th>\n",
       "      <th>Deaths/1M</th>\n",
       "      <th>comorbidity</th>\n",
       "      <th>Age</th>\n",
       "      <th>...</th>\n",
       "      <th>HBB</th>\n",
       "      <th>d-dimer</th>\n",
       "      <th>Heart rate</th>\n",
       "      <th>HDL cholesterol</th>\n",
       "      <th>Charlson Index</th>\n",
       "      <th>Blood Glucose</th>\n",
       "      <th>Insurance</th>\n",
       "      <th>salary</th>\n",
       "      <th>FT/month</th>\n",
       "      <th>Infect_Prob</th>\n",
       "    </tr>\n",
       "  </thead>\n",
       "  <tbody>\n",
       "    <tr>\n",
       "      <td>0</td>\n",
       "      <td>Bhubaneshwar</td>\n",
       "      <td>Female</td>\n",
       "      <td>YES</td>\n",
       "      <td>1.0</td>\n",
       "      <td>Farmer</td>\n",
       "      <td>Public</td>\n",
       "      <td>2</td>\n",
       "      <td>0</td>\n",
       "      <td>Hypertension</td>\n",
       "      <td>68</td>\n",
       "      <td>...</td>\n",
       "      <td>93.0</td>\n",
       "      <td>233.0</td>\n",
       "      <td>82.0</td>\n",
       "      <td>58.0</td>\n",
       "      <td>27</td>\n",
       "      <td>7</td>\n",
       "      <td>3600000.0</td>\n",
       "      <td>1300000</td>\n",
       "      <td>2.0</td>\n",
       "      <td>49.135010</td>\n",
       "    </tr>\n",
       "    <tr>\n",
       "      <td>1</td>\n",
       "      <td>Bhubaneshwar</td>\n",
       "      <td>Female</td>\n",
       "      <td>YES</td>\n",
       "      <td>2.0</td>\n",
       "      <td>Farmer</td>\n",
       "      <td>Walk</td>\n",
       "      <td>2</td>\n",
       "      <td>0</td>\n",
       "      <td>Diabetes</td>\n",
       "      <td>64</td>\n",
       "      <td>...</td>\n",
       "      <td>56.0</td>\n",
       "      <td>328.0</td>\n",
       "      <td>89.0</td>\n",
       "      <td>68.0</td>\n",
       "      <td>5</td>\n",
       "      <td>6</td>\n",
       "      <td>1600000.0</td>\n",
       "      <td>400000</td>\n",
       "      <td>1.0</td>\n",
       "      <td>51.147880</td>\n",
       "    </tr>\n",
       "    <tr>\n",
       "      <td>2</td>\n",
       "      <td>Bhubaneshwar</td>\n",
       "      <td>Female</td>\n",
       "      <td>NO</td>\n",
       "      <td>1.0</td>\n",
       "      <td>Cleaner</td>\n",
       "      <td>Public</td>\n",
       "      <td>2</td>\n",
       "      <td>0</td>\n",
       "      <td>None</td>\n",
       "      <td>19</td>\n",
       "      <td>...</td>\n",
       "      <td>137.0</td>\n",
       "      <td>213.0</td>\n",
       "      <td>77.0</td>\n",
       "      <td>43.0</td>\n",
       "      <td>40</td>\n",
       "      <td>6</td>\n",
       "      <td>3400000.0</td>\n",
       "      <td>900000</td>\n",
       "      <td>1.0</td>\n",
       "      <td>73.224000</td>\n",
       "    </tr>\n",
       "    <tr>\n",
       "      <td>3</td>\n",
       "      <td>Bhubaneshwar</td>\n",
       "      <td>Female</td>\n",
       "      <td>YES</td>\n",
       "      <td>1.0</td>\n",
       "      <td>Driver</td>\n",
       "      <td>Car</td>\n",
       "      <td>2</td>\n",
       "      <td>0</td>\n",
       "      <td>Coronary Heart Disease</td>\n",
       "      <td>33</td>\n",
       "      <td>...</td>\n",
       "      <td>167.0</td>\n",
       "      <td>275.0</td>\n",
       "      <td>64.0</td>\n",
       "      <td>60.0</td>\n",
       "      <td>27</td>\n",
       "      <td>7</td>\n",
       "      <td>700000.0</td>\n",
       "      <td>2300000</td>\n",
       "      <td>1.0</td>\n",
       "      <td>48.779225</td>\n",
       "    </tr>\n",
       "    <tr>\n",
       "      <td>4</td>\n",
       "      <td>Bhubaneshwar</td>\n",
       "      <td>Female</td>\n",
       "      <td>NO</td>\n",
       "      <td>2.0</td>\n",
       "      <td>Manufacturing</td>\n",
       "      <td>Car</td>\n",
       "      <td>2</td>\n",
       "      <td>0</td>\n",
       "      <td>Diabetes</td>\n",
       "      <td>23</td>\n",
       "      <td>...</td>\n",
       "      <td>153.0</td>\n",
       "      <td>331.0</td>\n",
       "      <td>71.0</td>\n",
       "      <td>64.0</td>\n",
       "      <td>32</td>\n",
       "      <td>7</td>\n",
       "      <td>3200000.0</td>\n",
       "      <td>1100000</td>\n",
       "      <td>1.0</td>\n",
       "      <td>87.868800</td>\n",
       "    </tr>\n",
       "  </tbody>\n",
       "</table>\n",
       "<p>5 rows × 25 columns</p>\n",
       "</div>"
      ],
      "text/plain": [
       "         Region  Gender Married  Children     Occupation Mode_transport  \\\n",
       "0  Bhubaneshwar  Female     YES       1.0         Farmer         Public   \n",
       "1  Bhubaneshwar  Female     YES       2.0         Farmer           Walk   \n",
       "2  Bhubaneshwar  Female      NO       1.0        Cleaner         Public   \n",
       "3  Bhubaneshwar  Female     YES       1.0         Driver            Car   \n",
       "4  Bhubaneshwar  Female      NO       2.0  Manufacturing            Car   \n",
       "\n",
       "   cases/1M  Deaths/1M             comorbidity  Age  ...    HBB d-dimer  \\\n",
       "0         2          0            Hypertension   68  ...   93.0   233.0   \n",
       "1         2          0                Diabetes   64  ...   56.0   328.0   \n",
       "2         2          0                    None   19  ...  137.0   213.0   \n",
       "3         2          0  Coronary Heart Disease   33  ...  167.0   275.0   \n",
       "4         2          0                Diabetes   23  ...  153.0   331.0   \n",
       "\n",
       "  Heart rate  HDL cholesterol  Charlson Index  Blood Glucose  Insurance  \\\n",
       "0       82.0             58.0              27              7  3600000.0   \n",
       "1       89.0             68.0               5              6  1600000.0   \n",
       "2       77.0             43.0              40              6  3400000.0   \n",
       "3       64.0             60.0              27              7   700000.0   \n",
       "4       71.0             64.0              32              7  3200000.0   \n",
       "\n",
       "    salary  FT/month  Infect_Prob  \n",
       "0  1300000       2.0    49.135010  \n",
       "1   400000       1.0    51.147880  \n",
       "2   900000       1.0    73.224000  \n",
       "3  2300000       1.0    48.779225  \n",
       "4  1100000       1.0    87.868800  \n",
       "\n",
       "[5 rows x 25 columns]"
      ]
     },
     "execution_count": 147,
     "metadata": {},
     "output_type": "execute_result"
    }
   ],
   "source": [
    "data.head()"
   ]
  },
  {
   "cell_type": "markdown",
   "metadata": {},
   "source": [
    "# 3 . Preprocessing"
   ]
  },
  {
   "cell_type": "markdown",
   "metadata": {},
   "source": [
    "# 3.1 Imputing missing values"
   ]
  },
  {
   "cell_type": "code",
   "execution_count": 148,
   "metadata": {},
   "outputs": [
    {
     "data": {
      "text/html": [
       "<div>\n",
       "<style scoped>\n",
       "    .dataframe tbody tr th:only-of-type {\n",
       "        vertical-align: middle;\n",
       "    }\n",
       "\n",
       "    .dataframe tbody tr th {\n",
       "        vertical-align: top;\n",
       "    }\n",
       "\n",
       "    .dataframe thead th {\n",
       "        text-align: right;\n",
       "    }\n",
       "</style>\n",
       "<table border=\"1\" class=\"dataframe\">\n",
       "  <thead>\n",
       "    <tr style=\"text-align: right;\">\n",
       "      <th></th>\n",
       "      <th>Region</th>\n",
       "      <th>Gender</th>\n",
       "      <th>Married</th>\n",
       "      <th>Occupation</th>\n",
       "      <th>Mode_transport</th>\n",
       "      <th>comorbidity</th>\n",
       "      <th>Pulmonary score</th>\n",
       "      <th>cardiological pressure</th>\n",
       "    </tr>\n",
       "  </thead>\n",
       "  <tbody>\n",
       "    <tr>\n",
       "      <td>0</td>\n",
       "      <td>Bhubaneshwar</td>\n",
       "      <td>Female</td>\n",
       "      <td>YES</td>\n",
       "      <td>Farmer</td>\n",
       "      <td>Public</td>\n",
       "      <td>Hypertension</td>\n",
       "      <td>&lt;400</td>\n",
       "      <td>Normal</td>\n",
       "    </tr>\n",
       "    <tr>\n",
       "      <td>1</td>\n",
       "      <td>Bhubaneshwar</td>\n",
       "      <td>Female</td>\n",
       "      <td>YES</td>\n",
       "      <td>Farmer</td>\n",
       "      <td>Walk</td>\n",
       "      <td>Diabetes</td>\n",
       "      <td>&lt;100</td>\n",
       "      <td>Stage-02</td>\n",
       "    </tr>\n",
       "    <tr>\n",
       "      <td>2</td>\n",
       "      <td>Bhubaneshwar</td>\n",
       "      <td>Female</td>\n",
       "      <td>NO</td>\n",
       "      <td>Cleaner</td>\n",
       "      <td>Public</td>\n",
       "      <td>None</td>\n",
       "      <td>&lt;300</td>\n",
       "      <td>Elevated</td>\n",
       "    </tr>\n",
       "    <tr>\n",
       "      <td>3</td>\n",
       "      <td>Bhubaneshwar</td>\n",
       "      <td>Female</td>\n",
       "      <td>YES</td>\n",
       "      <td>Driver</td>\n",
       "      <td>Car</td>\n",
       "      <td>Coronary Heart Disease</td>\n",
       "      <td>&lt;200</td>\n",
       "      <td>Stage-01</td>\n",
       "    </tr>\n",
       "    <tr>\n",
       "      <td>4</td>\n",
       "      <td>Bhubaneshwar</td>\n",
       "      <td>Female</td>\n",
       "      <td>NO</td>\n",
       "      <td>Manufacturing</td>\n",
       "      <td>Car</td>\n",
       "      <td>Diabetes</td>\n",
       "      <td>&lt;400</td>\n",
       "      <td>Normal</td>\n",
       "    </tr>\n",
       "  </tbody>\n",
       "</table>\n",
       "</div>"
      ],
      "text/plain": [
       "         Region  Gender Married     Occupation Mode_transport  \\\n",
       "0  Bhubaneshwar  Female     YES         Farmer         Public   \n",
       "1  Bhubaneshwar  Female     YES         Farmer           Walk   \n",
       "2  Bhubaneshwar  Female      NO        Cleaner         Public   \n",
       "3  Bhubaneshwar  Female     YES         Driver            Car   \n",
       "4  Bhubaneshwar  Female      NO  Manufacturing            Car   \n",
       "\n",
       "              comorbidity Pulmonary score cardiological pressure  \n",
       "0            Hypertension            <400                 Normal  \n",
       "1                Diabetes            <100               Stage-02  \n",
       "2                    None            <300               Elevated  \n",
       "3  Coronary Heart Disease            <200               Stage-01  \n",
       "4                Diabetes            <400                 Normal  "
      ]
     },
     "execution_count": 148,
     "metadata": {},
     "output_type": "execute_result"
    }
   ],
   "source": [
    "# Categorical columns\n",
    "cat_data = data.select_dtypes(include=['object']).copy()\n",
    "pred_cat_data = pred1.select_dtypes(include=['object']).copy()\n",
    "# print(\"Missing values:\")\n",
    "# print(cat_data.isnull().sum())\n",
    "# print(\"\\nafter filling:\")\n",
    "cat_data = cat_data.fillna(cat_data.mode().index[0])\n",
    "# print(cat_data.isnull().sum())\n",
    "\n",
    "cat_data.head()\n"
   ]
  },
  {
   "cell_type": "markdown",
   "metadata": {},
   "source": [
    "# 3.2 Categorical Encoding"
   ]
  },
  {
   "cell_type": "code",
   "execution_count": 149,
   "metadata": {},
   "outputs": [],
   "source": [
    "import category_encoders as ce\n",
    "\n",
    "encoder = ce.BinaryEncoder(cat_data)\n",
    "cat_data = encoder.fit_transform(cat_data)\n",
    "\n",
    "pred_cat_data= encoder.transform(pred_cat_data)"
   ]
  },
  {
   "cell_type": "code",
   "execution_count": 150,
   "metadata": {},
   "outputs": [
    {
     "data": {
      "text/html": [
       "<div>\n",
       "<style scoped>\n",
       "    .dataframe tbody tr th:only-of-type {\n",
       "        vertical-align: middle;\n",
       "    }\n",
       "\n",
       "    .dataframe tbody tr th {\n",
       "        vertical-align: top;\n",
       "    }\n",
       "\n",
       "    .dataframe thead th {\n",
       "        text-align: right;\n",
       "    }\n",
       "</style>\n",
       "<table border=\"1\" class=\"dataframe\">\n",
       "  <thead>\n",
       "    <tr style=\"text-align: right;\">\n",
       "      <th></th>\n",
       "      <th>Region_0</th>\n",
       "      <th>Region_1</th>\n",
       "      <th>Region_2</th>\n",
       "      <th>Region_3</th>\n",
       "      <th>Gender_0</th>\n",
       "      <th>Gender_1</th>\n",
       "      <th>Married_0</th>\n",
       "      <th>Married_1</th>\n",
       "      <th>Occupation_0</th>\n",
       "      <th>Occupation_1</th>\n",
       "      <th>...</th>\n",
       "      <th>comorbidity_1</th>\n",
       "      <th>comorbidity_2</th>\n",
       "      <th>comorbidity_3</th>\n",
       "      <th>Pulmonary score_0</th>\n",
       "      <th>Pulmonary score_1</th>\n",
       "      <th>Pulmonary score_2</th>\n",
       "      <th>cardiological pressure_0</th>\n",
       "      <th>cardiological pressure_1</th>\n",
       "      <th>cardiological pressure_2</th>\n",
       "      <th>cardiological pressure_3</th>\n",
       "    </tr>\n",
       "  </thead>\n",
       "  <tbody>\n",
       "    <tr>\n",
       "      <td>0</td>\n",
       "      <td>0</td>\n",
       "      <td>0</td>\n",
       "      <td>0</td>\n",
       "      <td>1</td>\n",
       "      <td>0</td>\n",
       "      <td>1</td>\n",
       "      <td>0</td>\n",
       "      <td>1</td>\n",
       "      <td>0</td>\n",
       "      <td>0</td>\n",
       "      <td>...</td>\n",
       "      <td>0</td>\n",
       "      <td>0</td>\n",
       "      <td>1</td>\n",
       "      <td>0</td>\n",
       "      <td>0</td>\n",
       "      <td>1</td>\n",
       "      <td>0</td>\n",
       "      <td>0</td>\n",
       "      <td>0</td>\n",
       "      <td>1</td>\n",
       "    </tr>\n",
       "    <tr>\n",
       "      <td>1</td>\n",
       "      <td>0</td>\n",
       "      <td>0</td>\n",
       "      <td>0</td>\n",
       "      <td>1</td>\n",
       "      <td>0</td>\n",
       "      <td>1</td>\n",
       "      <td>0</td>\n",
       "      <td>1</td>\n",
       "      <td>0</td>\n",
       "      <td>0</td>\n",
       "      <td>...</td>\n",
       "      <td>0</td>\n",
       "      <td>1</td>\n",
       "      <td>0</td>\n",
       "      <td>0</td>\n",
       "      <td>1</td>\n",
       "      <td>0</td>\n",
       "      <td>0</td>\n",
       "      <td>0</td>\n",
       "      <td>1</td>\n",
       "      <td>0</td>\n",
       "    </tr>\n",
       "    <tr>\n",
       "      <td>2</td>\n",
       "      <td>0</td>\n",
       "      <td>0</td>\n",
       "      <td>0</td>\n",
       "      <td>1</td>\n",
       "      <td>0</td>\n",
       "      <td>1</td>\n",
       "      <td>1</td>\n",
       "      <td>0</td>\n",
       "      <td>0</td>\n",
       "      <td>0</td>\n",
       "      <td>...</td>\n",
       "      <td>0</td>\n",
       "      <td>1</td>\n",
       "      <td>1</td>\n",
       "      <td>0</td>\n",
       "      <td>1</td>\n",
       "      <td>1</td>\n",
       "      <td>0</td>\n",
       "      <td>0</td>\n",
       "      <td>1</td>\n",
       "      <td>1</td>\n",
       "    </tr>\n",
       "    <tr>\n",
       "      <td>3</td>\n",
       "      <td>0</td>\n",
       "      <td>0</td>\n",
       "      <td>0</td>\n",
       "      <td>1</td>\n",
       "      <td>0</td>\n",
       "      <td>1</td>\n",
       "      <td>0</td>\n",
       "      <td>1</td>\n",
       "      <td>0</td>\n",
       "      <td>0</td>\n",
       "      <td>...</td>\n",
       "      <td>1</td>\n",
       "      <td>0</td>\n",
       "      <td>0</td>\n",
       "      <td>1</td>\n",
       "      <td>0</td>\n",
       "      <td>0</td>\n",
       "      <td>0</td>\n",
       "      <td>1</td>\n",
       "      <td>0</td>\n",
       "      <td>0</td>\n",
       "    </tr>\n",
       "    <tr>\n",
       "      <td>4</td>\n",
       "      <td>0</td>\n",
       "      <td>0</td>\n",
       "      <td>0</td>\n",
       "      <td>1</td>\n",
       "      <td>0</td>\n",
       "      <td>1</td>\n",
       "      <td>1</td>\n",
       "      <td>0</td>\n",
       "      <td>0</td>\n",
       "      <td>0</td>\n",
       "      <td>...</td>\n",
       "      <td>0</td>\n",
       "      <td>1</td>\n",
       "      <td>0</td>\n",
       "      <td>0</td>\n",
       "      <td>0</td>\n",
       "      <td>1</td>\n",
       "      <td>0</td>\n",
       "      <td>0</td>\n",
       "      <td>0</td>\n",
       "      <td>1</td>\n",
       "    </tr>\n",
       "    <tr>\n",
       "      <td>...</td>\n",
       "      <td>...</td>\n",
       "      <td>...</td>\n",
       "      <td>...</td>\n",
       "      <td>...</td>\n",
       "      <td>...</td>\n",
       "      <td>...</td>\n",
       "      <td>...</td>\n",
       "      <td>...</td>\n",
       "      <td>...</td>\n",
       "      <td>...</td>\n",
       "      <td>...</td>\n",
       "      <td>...</td>\n",
       "      <td>...</td>\n",
       "      <td>...</td>\n",
       "      <td>...</td>\n",
       "      <td>...</td>\n",
       "      <td>...</td>\n",
       "      <td>...</td>\n",
       "      <td>...</td>\n",
       "      <td>...</td>\n",
       "      <td>...</td>\n",
       "    </tr>\n",
       "    <tr>\n",
       "      <td>10709</td>\n",
       "      <td>0</td>\n",
       "      <td>1</td>\n",
       "      <td>0</td>\n",
       "      <td>1</td>\n",
       "      <td>1</td>\n",
       "      <td>0</td>\n",
       "      <td>1</td>\n",
       "      <td>0</td>\n",
       "      <td>0</td>\n",
       "      <td>1</td>\n",
       "      <td>...</td>\n",
       "      <td>0</td>\n",
       "      <td>1</td>\n",
       "      <td>0</td>\n",
       "      <td>0</td>\n",
       "      <td>0</td>\n",
       "      <td>1</td>\n",
       "      <td>0</td>\n",
       "      <td>0</td>\n",
       "      <td>0</td>\n",
       "      <td>1</td>\n",
       "    </tr>\n",
       "    <tr>\n",
       "      <td>10710</td>\n",
       "      <td>0</td>\n",
       "      <td>1</td>\n",
       "      <td>0</td>\n",
       "      <td>1</td>\n",
       "      <td>1</td>\n",
       "      <td>0</td>\n",
       "      <td>0</td>\n",
       "      <td>1</td>\n",
       "      <td>0</td>\n",
       "      <td>0</td>\n",
       "      <td>...</td>\n",
       "      <td>0</td>\n",
       "      <td>1</td>\n",
       "      <td>1</td>\n",
       "      <td>0</td>\n",
       "      <td>0</td>\n",
       "      <td>1</td>\n",
       "      <td>0</td>\n",
       "      <td>0</td>\n",
       "      <td>0</td>\n",
       "      <td>1</td>\n",
       "    </tr>\n",
       "    <tr>\n",
       "      <td>10711</td>\n",
       "      <td>0</td>\n",
       "      <td>1</td>\n",
       "      <td>0</td>\n",
       "      <td>1</td>\n",
       "      <td>1</td>\n",
       "      <td>0</td>\n",
       "      <td>0</td>\n",
       "      <td>1</td>\n",
       "      <td>0</td>\n",
       "      <td>0</td>\n",
       "      <td>...</td>\n",
       "      <td>0</td>\n",
       "      <td>1</td>\n",
       "      <td>0</td>\n",
       "      <td>0</td>\n",
       "      <td>1</td>\n",
       "      <td>0</td>\n",
       "      <td>0</td>\n",
       "      <td>0</td>\n",
       "      <td>1</td>\n",
       "      <td>0</td>\n",
       "    </tr>\n",
       "    <tr>\n",
       "      <td>10712</td>\n",
       "      <td>0</td>\n",
       "      <td>1</td>\n",
       "      <td>0</td>\n",
       "      <td>1</td>\n",
       "      <td>1</td>\n",
       "      <td>0</td>\n",
       "      <td>0</td>\n",
       "      <td>1</td>\n",
       "      <td>0</td>\n",
       "      <td>1</td>\n",
       "      <td>...</td>\n",
       "      <td>1</td>\n",
       "      <td>0</td>\n",
       "      <td>0</td>\n",
       "      <td>0</td>\n",
       "      <td>1</td>\n",
       "      <td>1</td>\n",
       "      <td>0</td>\n",
       "      <td>0</td>\n",
       "      <td>1</td>\n",
       "      <td>1</td>\n",
       "    </tr>\n",
       "    <tr>\n",
       "      <td>10713</td>\n",
       "      <td>0</td>\n",
       "      <td>1</td>\n",
       "      <td>0</td>\n",
       "      <td>1</td>\n",
       "      <td>1</td>\n",
       "      <td>0</td>\n",
       "      <td>1</td>\n",
       "      <td>0</td>\n",
       "      <td>0</td>\n",
       "      <td>1</td>\n",
       "      <td>...</td>\n",
       "      <td>0</td>\n",
       "      <td>1</td>\n",
       "      <td>0</td>\n",
       "      <td>0</td>\n",
       "      <td>0</td>\n",
       "      <td>1</td>\n",
       "      <td>0</td>\n",
       "      <td>0</td>\n",
       "      <td>0</td>\n",
       "      <td>1</td>\n",
       "    </tr>\n",
       "  </tbody>\n",
       "</table>\n",
       "<p>10714 rows × 27 columns</p>\n",
       "</div>"
      ],
      "text/plain": [
       "       Region_0  Region_1  Region_2  Region_3  Gender_0  Gender_1  Married_0  \\\n",
       "0             0         0         0         1         0         1          0   \n",
       "1             0         0         0         1         0         1          0   \n",
       "2             0         0         0         1         0         1          1   \n",
       "3             0         0         0         1         0         1          0   \n",
       "4             0         0         0         1         0         1          1   \n",
       "...         ...       ...       ...       ...       ...       ...        ...   \n",
       "10709         0         1         0         1         1         0          1   \n",
       "10710         0         1         0         1         1         0          0   \n",
       "10711         0         1         0         1         1         0          0   \n",
       "10712         0         1         0         1         1         0          0   \n",
       "10713         0         1         0         1         1         0          1   \n",
       "\n",
       "       Married_1  Occupation_0  Occupation_1  ...  comorbidity_1  \\\n",
       "0              1             0             0  ...              0   \n",
       "1              1             0             0  ...              0   \n",
       "2              0             0             0  ...              0   \n",
       "3              1             0             0  ...              1   \n",
       "4              0             0             0  ...              0   \n",
       "...          ...           ...           ...  ...            ...   \n",
       "10709          0             0             1  ...              0   \n",
       "10710          1             0             0  ...              0   \n",
       "10711          1             0             0  ...              0   \n",
       "10712          1             0             1  ...              1   \n",
       "10713          0             0             1  ...              0   \n",
       "\n",
       "       comorbidity_2  comorbidity_3  Pulmonary score_0  Pulmonary score_1  \\\n",
       "0                  0              1                  0                  0   \n",
       "1                  1              0                  0                  1   \n",
       "2                  1              1                  0                  1   \n",
       "3                  0              0                  1                  0   \n",
       "4                  1              0                  0                  0   \n",
       "...              ...            ...                ...                ...   \n",
       "10709              1              0                  0                  0   \n",
       "10710              1              1                  0                  0   \n",
       "10711              1              0                  0                  1   \n",
       "10712              0              0                  0                  1   \n",
       "10713              1              0                  0                  0   \n",
       "\n",
       "       Pulmonary score_2  cardiological pressure_0  cardiological pressure_1  \\\n",
       "0                      1                         0                         0   \n",
       "1                      0                         0                         0   \n",
       "2                      1                         0                         0   \n",
       "3                      0                         0                         1   \n",
       "4                      1                         0                         0   \n",
       "...                  ...                       ...                       ...   \n",
       "10709                  1                         0                         0   \n",
       "10710                  1                         0                         0   \n",
       "10711                  0                         0                         0   \n",
       "10712                  1                         0                         0   \n",
       "10713                  1                         0                         0   \n",
       "\n",
       "       cardiological pressure_2  cardiological pressure_3  \n",
       "0                             0                         1  \n",
       "1                             1                         0  \n",
       "2                             1                         1  \n",
       "3                             0                         0  \n",
       "4                             0                         1  \n",
       "...                         ...                       ...  \n",
       "10709                         0                         1  \n",
       "10710                         0                         1  \n",
       "10711                         1                         0  \n",
       "10712                         1                         1  \n",
       "10713                         0                         1  \n",
       "\n",
       "[10714 rows x 27 columns]"
      ]
     },
     "execution_count": 150,
     "metadata": {},
     "output_type": "execute_result"
    }
   ],
   "source": [
    "cat_data"
   ]
  },
  {
   "cell_type": "code",
   "execution_count": 151,
   "metadata": {},
   "outputs": [
    {
     "name": "stdout",
     "output_type": "stream",
     "text": [
      "<class 'pandas.core.frame.DataFrame'>\n",
      "RangeIndex: 10714 entries, 0 to 10713\n",
      "Data columns (total 10 columns):\n",
      "Children           10714 non-null float64\n",
      "Diuresis           10714 non-null float64\n",
      "Platelets          10714 non-null float64\n",
      "HBB                10714 non-null float64\n",
      "d-dimer            10714 non-null float64\n",
      "Heart rate         10714 non-null float64\n",
      "HDL cholesterol    10714 non-null float64\n",
      "Insurance          10714 non-null float64\n",
      "FT/month           10714 non-null float64\n",
      "Infect_Prob        10714 non-null float64\n",
      "dtypes: float64(10)\n",
      "memory usage: 837.2 KB\n",
      "<class 'pandas.core.frame.DataFrame'>\n",
      "RangeIndex: 14498 entries, 0 to 14497\n",
      "Data columns (total 9 columns):\n",
      "Children           14498 non-null int64\n",
      "Diuresis           14498 non-null int64\n",
      "Platelets          14498 non-null int64\n",
      "HBB                14498 non-null int64\n",
      "d-dimer            14498 non-null int64\n",
      "Heart rate         14498 non-null int64\n",
      "HDL cholesterol    14498 non-null int64\n",
      "Insurance          14498 non-null int64\n",
      "FT/month           14498 non-null int64\n",
      "dtypes: int64(9)\n",
      "memory usage: 1019.5 KB\n"
     ]
    }
   ],
   "source": [
    "# Numerical columns\n",
    "f_data = data.select_dtypes(include=['float64'])\n",
    "# print(\"Missing values:\")\n",
    "# print(f_data.isnull().sum())\n",
    "# print(\"\\nafter filling:\")\n",
    "f_data = f_data.fillna(f_data.mode().index[0])\n",
    "# print(f_data.isnull().sum())\n",
    "pred_f_data  = pred1[['Children','Diuresis','Platelets','HBB','d-dimer','Heart rate','HDL cholesterol','Insurance','FT/month']]           \n",
    "f_data.info()\n",
    "pred_f_data.info()"
   ]
  },
  {
   "cell_type": "code",
   "execution_count": 152,
   "metadata": {},
   "outputs": [
    {
     "name": "stdout",
     "output_type": "stream",
     "text": [
      "<class 'pandas.core.frame.DataFrame'>\n",
      "RangeIndex: 10714 entries, 0 to 10713\n",
      "Data columns (total 7 columns):\n",
      "cases/1M          10714 non-null int64\n",
      "Deaths/1M         10714 non-null int64\n",
      "Age               10714 non-null int64\n",
      "Coma score        10714 non-null int64\n",
      "Charlson Index    10714 non-null int64\n",
      "Blood Glucose     10714 non-null int64\n",
      "salary            10714 non-null int64\n",
      "dtypes: int64(7)\n",
      "memory usage: 586.0 KB\n",
      "<class 'pandas.core.frame.DataFrame'>\n",
      "RangeIndex: 14498 entries, 0 to 14497\n",
      "Data columns (total 7 columns):\n",
      "cases/1M          14498 non-null int64\n",
      "Deaths/1M         14498 non-null int64\n",
      "Age               14498 non-null int64\n",
      "Coma score        14498 non-null int64\n",
      "Charlson Index    14498 non-null int64\n",
      "Blood Glucose     14498 non-null int64\n",
      "salary            14498 non-null int64\n",
      "dtypes: int64(7)\n",
      "memory usage: 793.0 KB\n"
     ]
    }
   ],
   "source": [
    "# Numerical columns\n",
    "i_data = data.select_dtypes(include=['int64'])\n",
    "pred_i_data = pred1[[\"cases/1M\",\"Deaths/1M\",\"Age\",\"Coma score\",\"Charlson Index\",\"Blood Glucose\",\"salary\"]]\n",
    "i_data = i_data.fillna(i_data.mode().index[0])\n",
    "\n",
    "i_data.info()\n",
    "pred_i_data.info()\n"
   ]
  },
  {
   "cell_type": "markdown",
   "metadata": {},
   "source": [
    "# 3.3. Merge all processed dfs"
   ]
  },
  {
   "cell_type": "code",
   "execution_count": 153,
   "metadata": {},
   "outputs": [],
   "source": [
    "data1 = pd.concat([cat_data,i_data,f_data], axis=1)\n",
    "pred2 = pd.concat([pred_cat_data,pred_i_data,pred_f_data], axis=1)"
   ]
  },
  {
   "cell_type": "code",
   "execution_count": 154,
   "metadata": {},
   "outputs": [],
   "source": [
    "x = data1.iloc[:,:-1]\n",
    "y = data1.iloc[:,-1]\n"
   ]
  },
  {
   "cell_type": "code",
   "execution_count": null,
   "metadata": {},
   "outputs": [],
   "source": []
  },
  {
   "cell_type": "markdown",
   "metadata": {},
   "source": [
    "# 3.4 Feature Scaling"
   ]
  },
  {
   "cell_type": "code",
   "execution_count": 155,
   "metadata": {},
   "outputs": [],
   "source": [
    "#Feature Scaling\n",
    "from sklearn.preprocessing import MinMaxScaler\n",
    "sc_x = MinMaxScaler(feature_range =(0, 1))\n",
    "x =  sc_x.fit_transform(x)\n",
    "pred2= sc_x.fit_transform(pred2)"
   ]
  },
  {
   "cell_type": "code",
   "execution_count": 156,
   "metadata": {},
   "outputs": [],
   "source": [
    "X_train, X_test, y_train, y_test = train_test_split(x, y, test_size=0.33, random_state=1)"
   ]
  },
  {
   "cell_type": "code",
   "execution_count": 157,
   "metadata": {},
   "outputs": [
    {
     "name": "stdout",
     "output_type": "stream",
     "text": [
      "(7178, 43)\n",
      "(3536, 43)\n",
      "(7178,)\n",
      "(3536,)\n",
      "(14498, 43)\n"
     ]
    }
   ],
   "source": [
    "print(X_train.shape)\n",
    "print(X_test.shape)\n",
    "print(y_train.shape)\n",
    "print(y_test.shape)\n",
    "print(pred2.shape)\n"
   ]
  },
  {
   "cell_type": "code",
   "execution_count": 158,
   "metadata": {},
   "outputs": [],
   "source": [
    "#Cross Validation function\n",
    "n_folds = 5\n",
    "from sklearn.model_selection import KFold\n",
    "from math import sqrt\n",
    "\n",
    "def rmsle_cv(model):\n",
    "    kf = KFold(n_folds, shuffle=True, random_state=42).get_n_splits(X_train)\n",
    "    rmse= np.sqrt(-cross_val_score(model, X_train, y_train, scoring=\"neg_mean_squared_error\", cv = kf))\n",
    "    return(rmse)"
   ]
  },
  {
   "cell_type": "code",
   "execution_count": 159,
   "metadata": {},
   "outputs": [
    {
     "name": "stdout",
     "output_type": "stream",
     "text": [
      "7178\n"
     ]
    }
   ],
   "source": [
    "print(len(X_train))"
   ]
  },
  {
   "cell_type": "code",
   "execution_count": null,
   "metadata": {},
   "outputs": [],
   "source": [
    "from sklearn import svm \n",
    "from sklearn.metrics import mean_squared_error\n",
    "svm_reg=svm.SVR(kernel=\"linear\")\n",
    "from sklearn.feature_selection import RFECV\n",
    "selector = RFECV(svm_reg, cv=2)\n",
    "selector.fit(X_train, y_train)\n"
   ]
  },
  {
   "cell_type": "code",
   "execution_count": 120,
   "metadata": {},
   "outputs": [
    {
     "name": "stdout",
     "output_type": "stream",
     "text": [
      "[6 1 1 1 2 1 1 1 3 1 1 1 1 1 1 1 4 1 1 1 1 1 1 5 1 1 1 1 1 1 1 1 1 1 1 1 1\n",
      " 1 1 1 1 1 1]\n"
     ]
    }
   ],
   "source": [
    "print(selector.ranking_)\n",
    "# print((fit.support_))\n",
    "b=[]\n",
    "a = (selector.ranking_)\n",
    "for i in range(len(a)):\n",
    "    if(a[i]==1):\n",
    "        b.append(i)\n",
    "        \n",
    "X_train1 = X_train[:,b]\n",
    "X_test1 = X_test[:,b]\n",
    "pred2= pred2[:,b]\n",
    "\n",
    "\n"
   ]
  },
  {
   "cell_type": "markdown",
   "metadata": {},
   "source": [
    "# 4. Fitting the models"
   ]
  },
  {
   "cell_type": "markdown",
   "metadata": {},
   "source": [
    "# Multiple Linear Regression"
   ]
  },
  {
   "cell_type": "code",
   "execution_count": 19,
   "metadata": {},
   "outputs": [
    {
     "name": "stdout",
     "output_type": "stream",
     "text": [
      "Num Features: 20\n",
      "Selected Features: [False  True  True  True False False  True  True False False  True False\n",
      " False  True False False False False False False  True  True False False\n",
      "  True  True False  True  True False  True False False  True  True False\n",
      "  True  True False  True False  True False]\n",
      "Feature Ranking: [24  1  1  1  6  7  1  1  9  5  1 12 14  1 15 21  8 19 20 23  1  1  3 10\n",
      "  1  1 18  1  1 17  1 13  4  1  1 16  1  1 22  1  2  1 11]\n"
     ]
    }
   ],
   "source": [
    "from sklearn.linear_model import LinearRegression\n",
    "from sklearn.feature_selection import RFE\n",
    "from sklearn.model_selection import cross_val_score\n",
    "from sklearn.metrics import mean_squared_error\n",
    "import statistics \n",
    "linear_reg = LinearRegression()\n",
    "rfe = RFE(linear_reg, 20)\n",
    "fit = rfe.fit(X_train,y_train)\n",
    "print(\"Num Features: %s\" % (fit.n_features_))\n",
    "print(\"Selected Features: %s\" % (fit.support_))\n",
    "print(\"Feature Ranking: %s\" % (fit.ranking_))\n",
    "\n",
    "\n",
    "# # evaluate the model\n",
    "# r2_score = linear_reg.score(X_test,y_test)\n",
    "# print(\"R2 Score: \" , r2_score)\n",
    "# # linear_reg.fit(X_train,y_train)\n",
    "# print(\"Trained model :: \", linear_reg)\n"
   ]
  },
  {
   "cell_type": "code",
   "execution_count": 91,
   "metadata": {},
   "outputs": [
    {
     "name": "stdout",
     "output_type": "stream",
     "text": [
      "(14498, 20)\n"
     ]
    }
   ],
   "source": [
    "# print((fit.support_))\n",
    "b=[]\n",
    "a = (fit.ranking_)\n",
    "for i in range(len(a)):\n",
    "    if(a[i]==1):\n",
    "        b.append(i)\n",
    "        \n",
    "X_train1 = X_train[:,b]\n",
    "X_test1 = X_test[:,b]\n",
    "\n",
    "\n"
   ]
  },
  {
   "cell_type": "code",
   "execution_count": 121,
   "metadata": {},
   "outputs": [
    {
     "name": "stdout",
     "output_type": "stream",
     "text": [
      "(7178, 38)\n",
      "(3536, 38)\n"
     ]
    }
   ],
   "source": [
    "\n",
    "print(X_train1.shape)\n",
    "\n",
    "print(X_test1.shape)"
   ]
  },
  {
   "cell_type": "code",
   "execution_count": 123,
   "metadata": {},
   "outputs": [
    {
     "name": "stdout",
     "output_type": "stream",
     "text": [
      "Trained model ::  LinearRegression(copy_X=True, fit_intercept=True, n_jobs=None, normalize=False)\n",
      "R2 Score:  0.25942909326526287\n"
     ]
    }
   ],
   "source": [
    "\n",
    "linear_reg.fit(X_train1,y_train)\n",
    "print(\"Trained model :: \", linear_reg)\n",
    "# evaluate the model\n",
    "r2_score = linear_reg.score(X_test1,y_test)\n",
    "print(\"R2 Score: \" , r2_score)\n"
   ]
  },
  {
   "cell_type": "markdown",
   "metadata": {},
   "source": [
    "# DecisionTree"
   ]
  },
  {
   "cell_type": "code",
   "execution_count": null,
   "metadata": {},
   "outputs": [],
   "source": [
    "from sklearn.tree import DecisionTreeRegressor\n",
    "regr_1 = DecisionTreeRegressor(max_depth=2)\n",
    "regr_2 = DecisionTreeRegressor(max_depth=5)\n",
    "regr_3 = DecisionTreeRegressor(max_depth=3)\n",
    "\n",
    "regr_1.fit(X_train1, y_train)\n",
    "regr_2.fit(X_train1, y_train)\n",
    "regr_3.fit(X_train1, y_train)\n",
    "\n",
    "print(\"Regressor tree 1(Depth=2):\")\n",
    "print(\"R2 Score: \" ,regr_1.score(X_test1,y_test))\n",
    "\n",
    "print(\"\\nRegressor tree 2(Depth=5):\")\n",
    "print(\"R2 Score: \" ,regr_2.score(X_test1,y_test))\n"
   ]
  },
  {
   "cell_type": "markdown",
   "metadata": {},
   "source": [
    "# Lasso Regressor"
   ]
  },
  {
   "cell_type": "code",
   "execution_count": 125,
   "metadata": {},
   "outputs": [
    {
     "data": {
      "text/plain": [
       "0.2547917212466988"
      ]
     },
     "execution_count": 125,
     "metadata": {},
     "output_type": "execute_result"
    }
   ],
   "source": [
    "from sklearn import linear_model\n",
    "clf = linear_model.Lasso(alpha=0.1)\n",
    "clf.fit(X_train1,y_train)\n",
    "clf.score(X_test1,y_test)"
   ]
  },
  {
   "cell_type": "markdown",
   "metadata": {},
   "source": [
    "# 4.3 Random Forest"
   ]
  },
  {
   "cell_type": "code",
   "execution_count": 129,
   "metadata": {},
   "outputs": [
    {
     "name": "stdout",
     "output_type": "stream",
     "text": [
      "Trained model ::  RandomForestRegressor(bootstrap=True, ccp_alpha=0.0, criterion='mse',\n",
      "                      max_depth=None, max_features='auto', max_leaf_nodes=None,\n",
      "                      max_samples=None, min_impurity_decrease=0.0,\n",
      "                      min_impurity_split=None, min_samples_leaf=1,\n",
      "                      min_samples_split=2, min_weight_fraction_leaf=0.0,\n",
      "                      n_estimators=100, n_jobs=None, oob_score=False,\n",
      "                      random_state=0, verbose=0, warm_start=False)\n",
      "R2 Score: 0.29016762346315084\n"
     ]
    }
   ],
   "source": [
    "# fit the model - Random Forest\n",
    "from sklearn.ensemble import RandomForestRegressor\n",
    "from sklearn import metrics\n",
    "\n",
    "model = RandomForestRegressor(n_estimators = 100,random_state=0)\n",
    "model.fit(X_train1,y_train)\n",
    "print(\"Trained model :: \", model)\n",
    "# evaluate the model\n",
    "expected_y  = y_test\n",
    "predicted_y = model.predict(X_test1)\n",
    "print(\"R2 Score:\",metrics.r2_score(expected_y, predicted_y))\n"
   ]
  },
  {
   "cell_type": "markdown",
   "metadata": {},
   "source": [
    "# SVM Regression "
   ]
  },
  {
   "cell_type": "code",
   "execution_count": 126,
   "metadata": {},
   "outputs": [
    {
     "data": {
      "text/plain": [
       "0.27096288805562085"
      ]
     },
     "execution_count": 126,
     "metadata": {},
     "output_type": "execute_result"
    }
   ],
   "source": [
    "from sklearn import svm \n",
    "from sklearn.metrics import mean_squared_error\n",
    "svm_reg=svm.SVR()\n",
    "svm_reg.fit(X_train1,y_train)\n",
    "svm_reg.score(X_test1,y_test)\n",
    "\n"
   ]
  },
  {
   "cell_type": "markdown",
   "metadata": {},
   "source": [
    "# Ridge Regression"
   ]
  },
  {
   "cell_type": "code",
   "execution_count": 127,
   "metadata": {},
   "outputs": [
    {
     "name": "stdout",
     "output_type": "stream",
     "text": [
      "0.25979623685186204\n"
     ]
    },
    {
     "data": {
      "text/plain": [
       "0.2943135961974592"
      ]
     },
     "execution_count": 127,
     "metadata": {},
     "output_type": "execute_result"
    }
   ],
   "source": [
    "from sklearn.linear_model import Ridge\n",
    "ridge = Ridge(alpha=1.0)\n",
    "ridge.fit(X_train1,y_train)\n",
    "print(ridge.score(X_test1,y_test))\n",
    "\n"
   ]
  },
  {
   "cell_type": "markdown",
   "metadata": {},
   "source": [
    "# MLP"
   ]
  },
  {
   "cell_type": "code",
   "execution_count": 131,
   "metadata": {},
   "outputs": [
    {
     "name": "stdout",
     "output_type": "stream",
     "text": [
      "\n",
      "MLPRegressor(activation='relu', alpha=0.0001, batch_size='auto', beta_1=0.9,\n",
      "             beta_2=0.999, early_stopping=False, epsilon=1e-08,\n",
      "             hidden_layer_sizes=(100,), learning_rate='constant',\n",
      "             learning_rate_init=0.001, max_fun=15000, max_iter=200,\n",
      "             momentum=0.9, n_iter_no_change=10, nesterovs_momentum=True,\n",
      "             power_t=0.5, random_state=None, shuffle=True, solver='adam',\n",
      "             tol=0.0001, validation_fraction=0.1, verbose=False,\n",
      "             warm_start=False)\n",
      "R2 Score: 0.276457625485495\n"
     ]
    },
    {
     "name": "stderr",
     "output_type": "stream",
     "text": [
      "C:\\Users\\samar\\Anaconda3\\lib\\site-packages\\sklearn\\neural_network\\_multilayer_perceptron.py:571: ConvergenceWarning: Stochastic Optimizer: Maximum iterations (200) reached and the optimization hasn't converged yet.\n",
      "  % self.max_iter, ConvergenceWarning)\n"
     ]
    }
   ],
   "source": [
    "from sklearn.neural_network import MLPRegressor\n",
    "from sklearn import metrics\n",
    "model = MLPRegressor()\n",
    "model.fit(X_train1, y_train)\n",
    "print(); print(model)\n",
    "\n",
    "# make predictions\n",
    "expected_y  = y_test\n",
    "predicted_y = model.predict(X_test1)\n",
    "\n",
    "# summarize the fit of the model\n",
    "print(\"R2 Score:\",metrics.r2_score(expected_y, predicted_y))\n"
   ]
  },
  {
   "cell_type": "markdown",
   "metadata": {},
   "source": [
    "#  GRADIENTBOOSTINGREGRESSOR"
   ]
  },
  {
   "cell_type": "code",
   "execution_count": 160,
   "metadata": {},
   "outputs": [
    {
     "data": {
      "text/plain": [
       "RFECV(cv=2,\n",
       "      estimator=GradientBoostingRegressor(alpha=0.9, ccp_alpha=0.0,\n",
       "                                          criterion='friedman_mse', init=None,\n",
       "                                          learning_rate=0.1, loss='ls',\n",
       "                                          max_depth=3, max_features=None,\n",
       "                                          max_leaf_nodes=None,\n",
       "                                          min_impurity_decrease=0.0,\n",
       "                                          min_impurity_split=None,\n",
       "                                          min_samples_leaf=1,\n",
       "                                          min_samples_split=2,\n",
       "                                          min_weight_fraction_leaf=0.0,\n",
       "                                          n_estimators=100,\n",
       "                                          n_iter_no_change=None,\n",
       "                                          presort='deprecated',\n",
       "                                          random_state=None, subsample=1.0,\n",
       "                                          tol=0.0001, validation_fraction=0.1,\n",
       "                                          verbose=0, warm_start=False),\n",
       "      min_features_to_select=1, n_jobs=None, scoring=None, step=1, verbose=0)"
      ]
     },
     "execution_count": 160,
     "metadata": {},
     "output_type": "execute_result"
    }
   ],
   "source": [
    "from sklearn.experimental import enable_hist_gradient_boosting\n",
    "from sklearn.ensemble import GradientBoostingRegressor\n",
    "est = GradientBoostingRegressor()\n",
    "# .fit(X_train1, y_train)\n",
    "# est.score(X_test1,y_test)\n",
    "from sklearn.feature_selection import RFECV\n",
    "selector = RFECV(est, cv=2)\n",
    "selector.fit(X_train, y_train)\n",
    "\n"
   ]
  },
  {
   "cell_type": "code",
   "execution_count": 161,
   "metadata": {
    "jupyter": {
     "source_hidden": true
    }
   },
   "outputs": [
    {
     "name": "stdout",
     "output_type": "stream",
     "text": [
      "[37 24 36 35 32 31  9 11 30 29 12 16 19 28 22 26 25 15 27 18 17 33 20 34\n",
      " 13 23 21  1  1  1  8  4 10  3  1  1  1  1  2  7  5  6 14]\n"
     ]
    }
   ],
   "source": [
    "print(selector.ranking_)\n",
    "# print((fit.support_))\n",
    "b=[]\n",
    "a = (selector.ranking_)\n",
    "for i in range(len(a)):\n",
    "    if(a[i]==1):\n",
    "        b.append(i)\n",
    "        \n",
    "X_train1 = X_train[:,b]\n",
    "X_test1 = X_test[:,b]\n",
    "pred2= pred2[:,b]\n",
    "\n"
   ]
  },
  {
   "cell_type": "markdown",
   "metadata": {},
   "source": []
  },
  {
   "cell_type": "code",
   "execution_count": 162,
   "metadata": {},
   "outputs": [
    {
     "data": {
      "text/plain": [
       "0.2979991379156989"
      ]
     },
     "execution_count": 162,
     "metadata": {},
     "output_type": "execute_result"
    }
   ],
   "source": [
    "\n",
    "est = GradientBoostingRegressor().fit(X_train1, y_train)\n",
    "est.score(X_test1,y_test)\n"
   ]
  },
  {
   "cell_type": "markdown",
   "metadata": {},
   "source": [
    "# Predicting on Test_dataset"
   ]
  },
  {
   "cell_type": "code",
   "execution_count": 163,
   "metadata": {},
   "outputs": [],
   "source": [
    "ans = est.predict(pred2)"
   ]
  },
  {
   "cell_type": "code",
   "execution_count": 167,
   "metadata": {},
   "outputs": [],
   "source": [
    "df = pd.DataFrame (ans)\n",
    "dd = pd.concat([pred['people_ID'],df], axis=1)\n",
    "\n",
    "## save to xlsx file\n",
    "\n",
    "filepath = 'ans_p1.xlsx'\n",
    "\n",
    "dd.to_excel(filepath, index=False)"
   ]
  },
  {
   "cell_type": "code",
   "execution_count": null,
   "metadata": {},
   "outputs": [],
   "source": []
  }
 ],
 "metadata": {
  "kernelspec": {
   "display_name": "Python 3",
   "language": "python",
   "name": "python3"
  },
  "language_info": {
   "codemirror_mode": {
    "name": "ipython",
    "version": 3
   },
   "file_extension": ".py",
   "mimetype": "text/x-python",
   "name": "python",
   "nbconvert_exporter": "python",
   "pygments_lexer": "ipython3",
   "version": "3.7.4"
  }
 },
 "nbformat": 4,
 "nbformat_minor": 4
}
